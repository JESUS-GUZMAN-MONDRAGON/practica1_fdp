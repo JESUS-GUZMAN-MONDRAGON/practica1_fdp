{
  "nbformat": 4,
  "nbformat_minor": 0,
  "metadata": {
    "colab": {
      "name": "Gradicador.ipynb",
      "provenance": [],
      "collapsed_sections": [],
      "include_colab_link": true
    },
    "kernelspec": {
      "name": "python3",
      "display_name": "Python 3"
    }
  },
  "cells": [
    {
      "cell_type": "markdown",
      "metadata": {
        "id": "view-in-github",
        "colab_type": "text"
      },
      "source": [
        "<a href=\"https://colab.research.google.com/github/JESUS-GUZMAN-MONDRAGON/practica1_fdp/blob/master/Gradicador.ipynb\" target=\"_parent\"><img src=\"https://colab.research.google.com/assets/colab-badge.svg\" alt=\"Open In Colab\"/></a>"
      ]
    },
    {
      "cell_type": "markdown",
      "metadata": {
        "id": "1nvYNGHw16aC"
      },
      "source": [
        "Funciones\n"
      ]
    },
    {
      "cell_type": "code",
      "metadata": {
        "id": "2mm7YBgP1-7S"
      },
      "source": [
        "def grado():\n",
        "  n=int(input('ingresa el grado del polinomio: '))\n",
        "  return n\n",
        "def coeficientes(n):\n",
        "  C=[]\n",
        "  x=0\n",
        "  pow=n\n",
        "  for i in range(0,int(n+1)):\n",
        "    x=float(input('ingresa el coeficiente x^%d: '%pow))\n",
        "    C.append(x)\n",
        "    pow-=1\n",
        "  return C\n",
        "\n",
        "def evaluar(n, coefi,x):\n",
        "  y=0 \n",
        "  pow=n\n",
        "  for i in range(0,n+1,1):\n",
        "    y = y + (coefi[i]*(x**pow))\n",
        "    pow-=1\n",
        "  return y\n"
      ],
      "execution_count": null,
      "outputs": []
    },
    {
      "cell_type": "code",
      "metadata": {
        "id": "umRyEs5O_FYC"
      },
      "source": [
        "def printpoli(n,coeficientes ):\n",
        " \n",
        "  for i in range(0,int(n+1),1):\n",
        "    if coeficientes[i]==0 :\n",
        "      print('',end=\"\")\n",
        "      n=int(n)-1\n",
        "    else  :\n",
        "      if n==0 :\n",
        "        if coeficientes[i] > 0:\n",
        "          print('+',coeficientes[i])\n",
        "        else:\n",
        "          print(coeficientes[i])\n",
        "      else: \n",
        "        if coeficientes[i] > 0:\n",
        "          print('+%dx^%d'%(coeficientes[i],n),'' , end=\"\")\n",
        "        else:\n",
        "          print('%dx^%d'%(coeficientes[i],n),'' , end=\"\")\n",
        "        \n",
        "        n=int(n)-1\n",
        "  return"
      ],
      "execution_count": null,
      "outputs": []
    },
    {
      "cell_type": "code",
      "metadata": {
        "id": "SToMt3MIDlMj"
      },
      "source": [
        "def liminf_x():\n",
        "  lix=int(input('ingresa el limite inferior del dominio: '))\n",
        "  return lix\n",
        "\n",
        "def limsup_x():\n",
        "  lsx=int(input('ingresa el limite superior del dominio: '))\n",
        "  return lsx\n",
        "\n",
        "def dominio(di,df):\n",
        "  x=[]\n",
        "  for i in range(di,df+1):\n",
        "    x.append(di)\n",
        "    di=di+1\n",
        "  return x\n",
        "\n",
        "def rango(n,coefi,x):\n",
        "  y=[]\n",
        "  for i in range(len(x)):\n",
        "    temp=evaluar(n,coefi,x[i])\n",
        "    y.append(temp)\n",
        "  return y\n",
        "\n",
        "def liminf_y(y):\n",
        "  liy=min(y)\n",
        "  return liy\n",
        "\n",
        " \n",
        "def limsup_y(y):\n",
        "  lsy=max(y)\n",
        "  return lsy\n",
        "  "
      ],
      "execution_count": null,
      "outputs": []
    },
    {
      "cell_type": "code",
      "metadata": {
        "id": "nwEGP3URLycg"
      },
      "source": [
        "def crear_plano(lix,lsx,liy,lsy,step,x,y,re,re_y):\n",
        "  plano = [ ['.' for columna in range(0,re+1)] for fila in range(0,re_y+1)]\n",
        "\n",
        "  counterI=0\n",
        "# en esta parte se gráfican los ejes\n",
        "\n",
        "  for i in range(int(lsy),int(liy-step),-step): #tomar en cuenta\n",
        "    counterJ=0\n",
        "    if i==0:\n",
        "      for j in x: \n",
        "        plano[counterI][counterJ]='═'\n",
        "        counterJ+=1          \n",
        "      counterI+=1\n",
        "    \n",
        "    if i != 0:\n",
        "      for j in x:\n",
        "        if j==0:\n",
        "          plano[counterI][counterJ]='║'\n",
        "        counterJ+=1  \n",
        "      counterI+=1\n",
        "\n",
        "    #en esta parte se gráfica el polinomio\n",
        "  y_c=[]\n",
        "  \n",
        "  for i in range(0,re+1):\n",
        "    y_c.append(abs(lsy-y[i]))\n",
        "      \n",
        " \n",
        "  \n",
        "  for i in range(0,re+1):\n",
        "    temp=int(y_c[i])\n",
        "    plano[temp][i]='■'\n",
        "    \n",
        "\n",
        "  return plano\n",
        "\n"
      ],
      "execution_count": null,
      "outputs": []
    },
    {
      "cell_type": "markdown",
      "metadata": {
        "id": "ggxOCMUm1_2T"
      },
      "source": [
        "Main\n"
      ]
    },
    {
      "cell_type": "code",
      "metadata": {
        "id": "YsNONGoX70h9"
      },
      "source": [
        "def menu():\n",
        "  print(\"Menu:\")\n",
        "  print(\"1. Graficar polinomio \")\n",
        "  print(\"2. Salir\")"
      ],
      "execution_count": null,
      "outputs": []
    },
    {
      "cell_type": "code",
      "metadata": {
        "id": "czOb1Wdk7yny",
        "outputId": "496df319-fd9f-415f-d4eb-b232459ce048",
        "colab": {
          "base_uri": "https://localhost:8080/",
          "height": 816
        }
      },
      "source": [
        "salir=False\n",
        "while salir == False :\n",
        "  menu() #muestra en pantalla el menú\n",
        "  opcionMenu = input(\"\\nIngresa una opcion: \") #lee la opción ingresada por el usuario\n",
        "\n",
        "\n",
        "  if opcionMenu == \"1\":\n",
        "    print(\"\")\n",
        "  \n",
        "    n=grado() #pide grado\n",
        "    c=coeficientes(n) #pide coeficientes/crea lista\n",
        "    printpoli(n,c) #imprime el polinomio\n",
        "    print('')\n",
        "    lix=liminf_x()\n",
        "    lsx=limsup_x()\n",
        "    x=dominio(lix,lsx)\n",
        "\n",
        "    y=rango(n,c,x)\n",
        "\n",
        "    liy=liminf_y(y)\n",
        "\n",
        "    lsy=limsup_y(y)\n",
        "    step=1\n",
        "    re=int((lsx-lix)*(1/step))\n",
        "    re_y=int((lsy-liy)*(1/step))\n",
        "\n",
        "    C=crear_plano(lix,lsx,liy,lsy,step,x,y,re,re_y)\n",
        "    # en esta parte se imprime la gráfica final\n",
        "    for i in range(re_y+1):\n",
        "      for j in range(re+1):\n",
        "        print(C[i][j],end=' ')\n",
        "      print('') \n",
        "  \n",
        "\n",
        "  elif opcionMenu ==\"2\":\n",
        "    print(\" \\nGracias por utilizar el programa\")\n",
        "\n",
        "    salir=True\n",
        "  else:\n",
        "    print('Ingrese una opcion valida')\n",
        " \n"
      ],
      "execution_count": null,
      "outputs": [
        {
          "output_type": "stream",
          "text": [
            "Menu:\n",
            "1. Graficar polinomio \n",
            "2. Salir\n",
            "\n",
            "Ingresa una opcion: 1\n",
            "\n",
            "ingresa el grado del polinomio: 2\n",
            "ingresa el coeficiente x^2: -1\n",
            "ingresa el coeficiente x^1: 0\n",
            "ingresa el coeficiente x^0: 2\n",
            "-1x^2 + 2.0\n",
            "\n",
            "ingresa el limite inferior del dominio: -5\n",
            "ingresa el limite superior del dominio: 5\n",
            ". . . . . ■ . . . . . \n",
            ". . . . ■ ║ ■ . . . . \n",
            "═ ═ ═ ═ ═ ═ ═ ═ ═ ═ ═ \n",
            ". . . . . ║ . . . . . \n",
            ". . . ■ . ║ . ■ . . . \n",
            ". . . . . ║ . . . . . \n",
            ". . . . . ║ . . . . . \n",
            ". . . . . ║ . . . . . \n",
            ". . . . . ║ . . . . . \n",
            ". . ■ . . ║ . . ■ . . \n",
            ". . . . . ║ . . . . . \n",
            ". . . . . ║ . . . . . \n",
            ". . . . . ║ . . . . . \n",
            ". . . . . ║ . . . . . \n",
            ". . . . . ║ . . . . . \n",
            ". . . . . ║ . . . . . \n",
            ". ■ . . . ║ . . . ■ . \n",
            ". . . . . ║ . . . . . \n",
            ". . . . . ║ . . . . . \n",
            ". . . . . ║ . . . . . \n",
            ". . . . . ║ . . . . . \n",
            ". . . . . ║ . . . . . \n",
            ". . . . . ║ . . . . . \n",
            ". . . . . ║ . . . . . \n",
            ". . . . . ║ . . . . . \n",
            "■ . . . . ║ . . . . ■ \n",
            "Menu:\n",
            "1. Graficar polinomio \n",
            "2. Salir\n",
            "\n",
            "Ingresa una opcion: 2\n",
            " \n",
            "Gracias por utilizar el programa\n"
          ],
          "name": "stdout"
        }
      ]
    }
  ]
}